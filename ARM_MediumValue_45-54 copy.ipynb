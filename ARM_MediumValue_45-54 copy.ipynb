{
 "cells": [
  {
   "attachments": {},
   "cell_type": "markdown",
   "metadata": {},
   "source": [
    "Association Rule Mining - Analyse: Medium Customers - Age group 45-54\n",
    "\n",
    "@author: Kessor Chao\n",
    "\n",
    "Used guides: https://stackabuse.com/association-rule-mining-via-apriori-algorithm-in-python/ \n",
    "\n",
    "Read-me: ReadMe_ARM.txt\n",
    "\n",
    "Last edited: December 2022"
   ]
  },
  {
   "cell_type": "code",
   "execution_count": 1,
   "metadata": {},
   "outputs": [],
   "source": [
    "# importing necessary libraries\n",
    "\n",
    "import numpy as np\n",
    "import matplotlib.pyplot as plt\n",
    "import pandas as pd\n",
    "from apyori import apriori\n",
    "from collections import defaultdict"
   ]
  },
  {
   "cell_type": "code",
   "execution_count": null,
   "metadata": {},
   "outputs": [],
   "source": [
    "# importing and merging the data\n",
    "\n",
    "left = pd.read_csv('KeyData.csv', sep=';', nrows=2000000).astype({\"Item\": str, \"Real Brand\": str})\n",
    "right = pd.read_csv('RFM.csv')\n",
    "\n",
    "store_data = pd.merge(left, right, on=\"KeyNo\")"
   ]
  },
  {
   "cell_type": "code",
   "execution_count": 3,
   "metadata": {},
   "outputs": [],
   "source": [
    "# Cleaning data\n",
    "\n",
    "store_data = store_data.loc[store_data['Real Brand'] != 'XXXX - Service Center'] \n",
    "store_data = store_data.loc[store_data['Real Brand'] != 'nan']\n",
    "store_data = store_data.loc[store_data['Real Brand'] != 'XXXXXX-PACKAGE']\n",
    "store_data = store_data.loc[store_data['Keycard Age'] >= 45] \n",
    "store_data = store_data.loc[store_data['Keycard Age'] <= 54] \n",
    "store_data = store_data.loc[store_data['Keycard Gender'] == 'F']\n",
    "store_data = store_data.loc[store_data['Customer_segment'] == 'Medium Value Customer']"
   ]
  },
  {
   "cell_type": "code",
   "execution_count": null,
   "metadata": {},
   "outputs": [],
   "source": [
    "# View data after cleaning\n",
    "\n",
    "store_data.head()"
   ]
  },
  {
   "cell_type": "code",
   "execution_count": 5,
   "metadata": {},
   "outputs": [],
   "source": [
    "# Group data by KeyNo and data\n",
    "\n",
    "store_data = store_data.groupby(['KeyNo','Date'])"
   ]
  },
  {
   "cell_type": "code",
   "execution_count": null,
   "metadata": {},
   "outputs": [],
   "source": [
    "# View data after grouping\n",
    "\n",
    "store_data.count()"
   ]
  },
  {
   "cell_type": "code",
   "execution_count": 7,
   "metadata": {},
   "outputs": [],
   "source": [
    "# Setting values that we want to associate\n",
    "\n",
    "keys = ['Real Brand','Department']"
   ]
  },
  {
   "cell_type": "code",
   "execution_count": 8,
   "metadata": {},
   "outputs": [],
   "source": [
    "# Creating lists based on values.\n",
    "\n",
    "aggregates = {}\n",
    "for k in keys:\n",
    "    aggregates[k] = store_data.agg({k: lambda x: list(x)}).values.tolist()\n",
    "    for i, x in enumerate(aggregates[k]):\n",
    "        aggregates[k][i] = x[0]"
   ]
  },
  {
   "cell_type": "code",
   "execution_count": 19,
   "metadata": {},
   "outputs": [],
   "source": [
    "# Creating associations with apriori and setting minimum values\n",
    "\n",
    "association_results = {}\n",
    "for k in keys:\n",
    "    rules = apriori(aggregates[k], min_support=0.0015, min_confidence=0.2, min_lift=3, min_length=2)\n",
    "    association_results[k] = pd.DataFrame(rules)"
   ]
  },
  {
   "cell_type": "code",
   "execution_count": 22,
   "metadata": {},
   "outputs": [],
   "source": [
    "# Finding association results and adding them to the dataset\n",
    "\n",
    "ars = {}\n",
    "for k in keys:\n",
    "    ars[k] = association_results[k].copy(deep=True)\n",
    "    ars[k][['Ascendant', 'Consequent']] = pd.DataFrame(ars[k]['items'].apply(lambda item: list(item)[0:2]).tolist()) \n",
    "    ars[k][['Confidence', 'Lift']] = pd.DataFrame(ars[k]['ordered_statistics'].apply(lambda item: [item[0][2], item[0][3]]).tolist())\n",
    "    ars[k].drop(['items', 'ordered_statistics'], inplace=True, axis=1)"
   ]
  },
  {
   "cell_type": "code",
   "execution_count": 23,
   "metadata": {},
   "outputs": [],
   "source": [
    "#Store data into csv files based on values\n",
    "\n",
    "for k in keys:\n",
    "    ars[k].to_csv(f'ARM_MediumValue-45-54{k}.csv')"
   ]
  }
 ],
 "metadata": {
  "kernelspec": {
   "display_name": "Python 3.11.0 64-bit",
   "language": "python",
   "name": "python3"
  },
  "language_info": {
   "codemirror_mode": {
    "name": "ipython",
    "version": 3
   },
   "file_extension": ".py",
   "mimetype": "text/x-python",
   "name": "python",
   "nbconvert_exporter": "python",
   "pygments_lexer": "ipython3",
   "version": "3.8.5"
  },
  "orig_nbformat": 4,
  "vscode": {
   "interpreter": {
    "hash": "aee8b7b246df8f9039afb4144a1f6fd8d2ca17a180786b69acc140d282b71a49"
   }
  }
 },
 "nbformat": 4,
 "nbformat_minor": 2
}
